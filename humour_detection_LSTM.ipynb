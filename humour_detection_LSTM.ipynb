{
  "nbformat": 4,
  "nbformat_minor": 0,
  "metadata": {
    "colab": {
      "name": "humour_detection_LSTM.ipynb",
      "provenance": []
    },
    "kernelspec": {
      "name": "python3",
      "display_name": "Python 3"
    }
  },
  "cells": [
    {
      "cell_type": "code",
      "metadata": {
        "id": "Ok7MQjxghvSC",
        "colab_type": "code",
        "outputId": "12153643-c543-41e7-dee5-42f5fb6bd421",
        "colab": {
          "base_uri": "https://localhost:8080/",
          "height": 50
        }
      },
      "source": [
        "%tensorflow_version 1.x\n",
        "import numpy as np\n",
        "import pandas as pd\n",
        "import matplotlib.pyplot as plt\n",
        "from keras.preprocessing.text import Tokenizer\n",
        "from keras.preprocessing.sequence import pad_sequences\n",
        "from keras.models import Sequential\n",
        "from keras.layers import Embedding,Flatten,Dense,Dropout,SimpleRNN,LSTM,Conv1D,MaxPooling1D,GlobalMaxPooling1D,GRU\n",
        "from keras.optimizers import RMSprop\n",
        "from keras import backend as K"
      ],
      "execution_count": 0,
      "outputs": [
        {
          "output_type": "stream",
          "text": [
            "TensorFlow 1.x selected.\n"
          ],
          "name": "stdout"
        },
        {
          "output_type": "stream",
          "text": [
            "Using TensorFlow backend.\n"
          ],
          "name": "stderr"
        }
      ]
    },
    {
      "cell_type": "code",
      "metadata": {
        "id": "seXhXriUh5Mh",
        "colab_type": "code",
        "outputId": "e1c31d98-ac39-41e5-cd3d-149547e8b3a3",
        "colab": {
          "base_uri": "https://localhost:8080/",
          "height": 84
        }
      },
      "source": [
        "!git clone https://github.com/iamdsc/humor_detection.git"
      ],
      "execution_count": 0,
      "outputs": [
        {
          "output_type": "stream",
          "text": [
            "Cloning into 'humor_detection'...\n",
            "remote: Enumerating objects: 43, done.\u001b[K\n",
            "remote: Total 43 (delta 0), reused 0 (delta 0), pack-reused 43\u001b[K\n",
            "Unpacking objects: 100% (43/43), done.\n"
          ],
          "name": "stdout"
        }
      ]
    },
    {
      "cell_type": "code",
      "metadata": {
        "id": "E3R51tk7h7QE",
        "colab_type": "code",
        "outputId": "8f435a0b-ccb2-40ad-99e2-606d9b5e30c4",
        "colab": {
          "base_uri": "https://localhost:8080/",
          "height": 67
        }
      },
      "source": [
        "%cd humor_detection/datasets\n",
        "!ls"
      ],
      "execution_count": 0,
      "outputs": [
        {
          "output_type": "stream",
          "text": [
            "/content/humor_detection/datasets\n",
            "humorous_oneliners.pickle      proverbs.pickle\t\t wiki_sentences.pickle\n",
            "oneliners_incl_doubles.pickle  reuters_headlines.pickle\n"
          ],
          "name": "stdout"
        }
      ]
    },
    {
      "cell_type": "code",
      "metadata": {
        "id": "I0AnWEA8h9BB",
        "colab_type": "code",
        "outputId": "1e855696-c662-4863-9d91-55540a1e3d89",
        "colab": {
          "base_uri": "https://localhost:8080/",
          "height": 67
        }
      },
      "source": [
        "humour = pd.read_pickle('humorous_oneliners.pickle')\n",
        "proverb = pd.read_pickle('proverbs.pickle')\n",
        "wiki = pd.read_pickle('wiki_sentences.pickle')\n",
        "long_humour = pd.read_pickle('oneliners_incl_doubles.pickle')\n",
        "reuters = pd.read_pickle('reuters_headlines.pickle')\n",
        "\n",
        "texts = []\n",
        "labels = []\n",
        "\n",
        "# shuffling the different negative samples\n",
        "neg = proverb+wiki+reuters\n",
        "np.random.shuffle(neg)\n",
        "\n",
        "# adding the positive samples\n",
        "print('No. of positive samples',len(humour))\n",
        "for line in humour:\n",
        "  texts.append(line)\n",
        "  labels.append(1)\n",
        "  \n",
        "# taking equal samples from both classes\n",
        "neg = neg[:len(humour)]\n",
        "\n",
        "# adding the negative samples\n",
        "print('No. of negative samples',len(neg))\n",
        "for line in neg:\n",
        "  texts.append(line)\n",
        "  labels.append(0)\n",
        "  \n",
        "print('Total no. of samples',len(texts))"
      ],
      "execution_count": 0,
      "outputs": [
        {
          "output_type": "stream",
          "text": [
            "No. of positive samples 5251\n",
            "No. of negative samples 5251\n",
            "Total no. of samples 10502\n"
          ],
          "name": "stdout"
        }
      ]
    },
    {
      "cell_type": "code",
      "metadata": {
        "id": "zGyUZS1yiAPe",
        "colab_type": "code",
        "outputId": "45c781c9-2ea4-41ab-efb7-4619b616a6b4",
        "colab": {
          "base_uri": "https://localhost:8080/",
          "height": 67
        }
      },
      "source": [
        "maxlen = 50 # cut off sentences after 50 words\n",
        "max_words = 10000 # only consider top 10000 common words in dataset\n",
        "\n",
        "tokenizer = Tokenizer(num_words=max_words)\n",
        "tokenizer.fit_on_texts(texts)\n",
        "\n",
        "sequences = tokenizer.texts_to_sequences(texts)\n",
        "word_index = tokenizer.word_index\n",
        "\n",
        "print('Found %s unique tokens'%len(word_index))\n",
        "\n",
        "# padding the sequences\n",
        "data = pad_sequences(sequences, maxlen=maxlen)\n",
        "\n",
        "labels = np.array(labels)\n",
        "\n",
        "print('Shape of data tensor:',data.shape)\n",
        "print('Shape of labels tensor:',labels.shape)\n",
        "\n",
        "# shuffle the data\n",
        "indices = np.arange(data.shape[0])\n",
        "np.random.shuffle(indices)\n",
        "data = data[indices]\n",
        "labels = labels[indices]"
      ],
      "execution_count": 0,
      "outputs": [
        {
          "output_type": "stream",
          "text": [
            "Found 16911 unique tokens\n",
            "Shape of data tensor: (10502, 50)\n",
            "Shape of labels tensor: (10502,)\n"
          ],
          "name": "stdout"
        }
      ]
    },
    {
      "cell_type": "code",
      "metadata": {
        "id": "85MCevfIiORg",
        "colab_type": "code",
        "outputId": "69adb3f2-e820-4bd7-ef12-59e8b31cb6f0",
        "colab": {
          "base_uri": "https://localhost:8080/",
          "height": 457
        }
      },
      "source": [
        "model = Sequential()\n",
        "model.add(Embedding(max_words, 32))\n",
        "model.add(LSTM(64, dropout=0.1, recurrent_dropout=0.5))\n",
        "model.add(Dense(1, activation='sigmoid'))\n",
        "model.summary()"
      ],
      "execution_count": 0,
      "outputs": [
        {
          "output_type": "stream",
          "text": [
            "WARNING:tensorflow:From /usr/local/lib/python3.6/dist-packages/keras/backend/tensorflow_backend.py:66: The name tf.get_default_graph is deprecated. Please use tf.compat.v1.get_default_graph instead.\n",
            "\n",
            "WARNING:tensorflow:From /usr/local/lib/python3.6/dist-packages/keras/backend/tensorflow_backend.py:541: The name tf.placeholder is deprecated. Please use tf.compat.v1.placeholder instead.\n",
            "\n",
            "WARNING:tensorflow:From /usr/local/lib/python3.6/dist-packages/keras/backend/tensorflow_backend.py:4432: The name tf.random_uniform is deprecated. Please use tf.random.uniform instead.\n",
            "\n",
            "WARNING:tensorflow:From /usr/local/lib/python3.6/dist-packages/keras/backend/tensorflow_backend.py:148: The name tf.placeholder_with_default is deprecated. Please use tf.compat.v1.placeholder_with_default instead.\n",
            "\n",
            "WARNING:tensorflow:From /usr/local/lib/python3.6/dist-packages/keras/backend/tensorflow_backend.py:3733: calling dropout (from tensorflow.python.ops.nn_ops) with keep_prob is deprecated and will be removed in a future version.\n",
            "Instructions for updating:\n",
            "Please use `rate` instead of `keep_prob`. Rate should be set to `rate = 1 - keep_prob`.\n",
            "Model: \"sequential_1\"\n",
            "_________________________________________________________________\n",
            "Layer (type)                 Output Shape              Param #   \n",
            "=================================================================\n",
            "embedding_1 (Embedding)      (None, None, 32)          320000    \n",
            "_________________________________________________________________\n",
            "lstm_1 (LSTM)                (None, 64)                24832     \n",
            "_________________________________________________________________\n",
            "dense_1 (Dense)              (None, 1)                 65        \n",
            "=================================================================\n",
            "Total params: 344,897\n",
            "Trainable params: 344,897\n",
            "Non-trainable params: 0\n",
            "_________________________________________________________________\n"
          ],
          "name": "stdout"
        }
      ]
    },
    {
      "cell_type": "code",
      "metadata": {
        "id": "O4Az0mzfiRba",
        "colab_type": "code",
        "outputId": "c8296ba1-8ef1-455e-de52-e2c9d548dad7",
        "colab": {
          "base_uri": "https://localhost:8080/",
          "height": 1000
        }
      },
      "source": [
        "model.compile(optimizer=RMSprop(lr=1e-4), loss='binary_crossentropy', metrics=['acc'])\n",
        "history = model.fit(data, labels, epochs=20, batch_size=32, validation_split=0.1)"
      ],
      "execution_count": 0,
      "outputs": [
        {
          "output_type": "stream",
          "text": [
            "WARNING:tensorflow:From /usr/local/lib/python3.6/dist-packages/keras/optimizers.py:793: The name tf.train.Optimizer is deprecated. Please use tf.compat.v1.train.Optimizer instead.\n",
            "\n",
            "WARNING:tensorflow:From /usr/local/lib/python3.6/dist-packages/keras/backend/tensorflow_backend.py:3657: The name tf.log is deprecated. Please use tf.math.log instead.\n",
            "\n",
            "WARNING:tensorflow:From /tensorflow-1.15.2/python3.6/tensorflow_core/python/ops/nn_impl.py:183: where (from tensorflow.python.ops.array_ops) is deprecated and will be removed in a future version.\n",
            "Instructions for updating:\n",
            "Use tf.where in 2.0, which has the same broadcast rule as np.where\n",
            "WARNING:tensorflow:From /usr/local/lib/python3.6/dist-packages/keras/backend/tensorflow_backend.py:1033: The name tf.assign_add is deprecated. Please use tf.compat.v1.assign_add instead.\n",
            "\n",
            "WARNING:tensorflow:From /usr/local/lib/python3.6/dist-packages/keras/backend/tensorflow_backend.py:1020: The name tf.assign is deprecated. Please use tf.compat.v1.assign instead.\n",
            "\n",
            "WARNING:tensorflow:From /usr/local/lib/python3.6/dist-packages/keras/backend/tensorflow_backend.py:3005: The name tf.Session is deprecated. Please use tf.compat.v1.Session instead.\n",
            "\n",
            "Train on 9451 samples, validate on 1051 samples\n",
            "Epoch 1/20\n",
            "WARNING:tensorflow:From /usr/local/lib/python3.6/dist-packages/keras/backend/tensorflow_backend.py:190: The name tf.get_default_session is deprecated. Please use tf.compat.v1.get_default_session instead.\n",
            "\n",
            "WARNING:tensorflow:From /usr/local/lib/python3.6/dist-packages/keras/backend/tensorflow_backend.py:197: The name tf.ConfigProto is deprecated. Please use tf.compat.v1.ConfigProto instead.\n",
            "\n",
            "WARNING:tensorflow:From /usr/local/lib/python3.6/dist-packages/keras/backend/tensorflow_backend.py:207: The name tf.global_variables is deprecated. Please use tf.compat.v1.global_variables instead.\n",
            "\n",
            "WARNING:tensorflow:From /usr/local/lib/python3.6/dist-packages/keras/backend/tensorflow_backend.py:216: The name tf.is_variable_initialized is deprecated. Please use tf.compat.v1.is_variable_initialized instead.\n",
            "\n",
            "WARNING:tensorflow:From /usr/local/lib/python3.6/dist-packages/keras/backend/tensorflow_backend.py:223: The name tf.variables_initializer is deprecated. Please use tf.compat.v1.variables_initializer instead.\n",
            "\n",
            "9451/9451 [==============================] - 18s 2ms/step - loss: 0.6821 - acc: 0.6675 - val_loss: 0.6600 - val_acc: 0.7564\n",
            "Epoch 2/20\n",
            "9451/9451 [==============================] - 16s 2ms/step - loss: 0.6178 - acc: 0.7704 - val_loss: 0.5643 - val_acc: 0.8135\n",
            "Epoch 3/20\n",
            "9451/9451 [==============================] - 16s 2ms/step - loss: 0.5058 - acc: 0.8189 - val_loss: 0.4170 - val_acc: 0.8735\n",
            "Epoch 4/20\n",
            "9451/9451 [==============================] - 16s 2ms/step - loss: 0.3716 - acc: 0.8723 - val_loss: 0.2899 - val_acc: 0.9039\n",
            "Epoch 5/20\n",
            "9451/9451 [==============================] - 16s 2ms/step - loss: 0.2801 - acc: 0.9003 - val_loss: 0.2299 - val_acc: 0.9229\n",
            "Epoch 6/20\n",
            "9451/9451 [==============================] - 16s 2ms/step - loss: 0.2384 - acc: 0.9103 - val_loss: 0.2023 - val_acc: 0.9343\n",
            "Epoch 7/20\n",
            "9451/9451 [==============================] - 16s 2ms/step - loss: 0.2106 - acc: 0.9229 - val_loss: 0.1866 - val_acc: 0.9372\n",
            "Epoch 8/20\n",
            "9451/9451 [==============================] - 16s 2ms/step - loss: 0.1954 - acc: 0.9283 - val_loss: 0.1742 - val_acc: 0.9382\n",
            "Epoch 9/20\n",
            "9451/9451 [==============================] - 17s 2ms/step - loss: 0.1828 - acc: 0.9319 - val_loss: 0.1661 - val_acc: 0.9410\n",
            "Epoch 10/20\n",
            "9451/9451 [==============================] - 16s 2ms/step - loss: 0.1693 - acc: 0.9365 - val_loss: 0.1591 - val_acc: 0.9439\n",
            "Epoch 11/20\n",
            "9451/9451 [==============================] - 16s 2ms/step - loss: 0.1613 - acc: 0.9396 - val_loss: 0.1552 - val_acc: 0.9448\n",
            "Epoch 12/20\n",
            "9451/9451 [==============================] - 16s 2ms/step - loss: 0.1522 - acc: 0.9454 - val_loss: 0.1494 - val_acc: 0.9458\n",
            "Epoch 13/20\n",
            "9451/9451 [==============================] - 16s 2ms/step - loss: 0.1448 - acc: 0.9482 - val_loss: 0.1463 - val_acc: 0.9448\n",
            "Epoch 14/20\n",
            "9451/9451 [==============================] - 16s 2ms/step - loss: 0.1420 - acc: 0.9471 - val_loss: 0.1432 - val_acc: 0.9477\n",
            "Epoch 15/20\n",
            "9451/9451 [==============================] - 16s 2ms/step - loss: 0.1330 - acc: 0.9516 - val_loss: 0.1405 - val_acc: 0.9448\n",
            "Epoch 16/20\n",
            "9451/9451 [==============================] - 16s 2ms/step - loss: 0.1267 - acc: 0.9555 - val_loss: 0.1393 - val_acc: 0.9448\n",
            "Epoch 17/20\n",
            "9451/9451 [==============================] - 17s 2ms/step - loss: 0.1267 - acc: 0.9526 - val_loss: 0.1358 - val_acc: 0.9496\n",
            "Epoch 18/20\n",
            "9451/9451 [==============================] - 16s 2ms/step - loss: 0.1230 - acc: 0.9561 - val_loss: 0.1353 - val_acc: 0.9477\n",
            "Epoch 19/20\n",
            "9451/9451 [==============================] - 16s 2ms/step - loss: 0.1155 - acc: 0.9594 - val_loss: 0.1338 - val_acc: 0.9486\n",
            "Epoch 20/20\n",
            "9451/9451 [==============================] - 16s 2ms/step - loss: 0.1141 - acc: 0.9594 - val_loss: 0.1321 - val_acc: 0.9486\n"
          ],
          "name": "stdout"
        }
      ]
    },
    {
      "cell_type": "code",
      "metadata": {
        "id": "6ziDfXzuiUvd",
        "colab_type": "code",
        "outputId": "90d74c20-38c3-42dd-8a97-4bad2475c4a0",
        "colab": {
          "base_uri": "https://localhost:8080/",
          "height": 590
        }
      },
      "source": [
        "def plot_result(history):\n",
        "  acc = history.history['acc']\n",
        "  val_acc = history.history['val_acc']\n",
        "  loss = history.history['loss']\n",
        "  val_loss = history.history['val_loss']\n",
        "  \n",
        "  \n",
        "  epochs = range(1, len(acc)+1)\n",
        "\n",
        "  plt.plot(epochs, acc, label='Training acc')\n",
        "  plt.plot(epochs, val_acc, label='Validation acc')\n",
        "  plt.title('Training and validation accuracy')\n",
        "  plt.xlabel('epochs')\n",
        "  plt.ylabel('acc')\n",
        "  plt.legend()\n",
        "\n",
        "  plt.figure()\n",
        "\n",
        "  plt.plot(epochs, loss, label='Training loss')\n",
        "  plt.plot(epochs, val_loss, label='Validation loss')\n",
        "  plt.title('Training and validation loss')\n",
        "  plt.xlabel('epochs')\n",
        "  plt.ylabel('loss')\n",
        "  plt.legend()\n",
        "\n",
        "  plt.figure()\n",
        "\n",
        "  \"\"\"plt.plot(epochs, f1, label='Training fmeasure')\n",
        "  plt.plot(epochs, val_f1, label='Validation fmeasure')\n",
        "  plt.title('Training and validation fmeasure')\n",
        "  #plt.xlabel('epochs')\n",
        "  #plt.ylabel('f1')\n",
        "  plt.legend()\"\"\"\n",
        "  \n",
        "  plt.show()\n",
        "plot_result(history)"
      ],
      "execution_count": 0,
      "outputs": [
        {
          "output_type": "display_data",
          "data": {
            "image/png": "[encoded data removed]",
            "text/plain": [
              "<Figure size 432x288 with 1 Axes>"
            ]
          },
          "metadata": {
            "tags": []
          }
        },
        {
          "output_type": "display_data",
          "data": {
            "image/png": "[encoded data removed]",
            "text/plain": [
              "<Figure size 432x288 with 1 Axes>"
            ]
          },
          "metadata": {
            "tags": []
          }
        },
        {
          "output_type": "display_data",
          "data": {
            "text/plain": [
              "<Figure size 432x288 with 0 Axes>"
            ]
          },
          "metadata": {
            "tags": []
          }
        }
      ]
    }
  ]
}
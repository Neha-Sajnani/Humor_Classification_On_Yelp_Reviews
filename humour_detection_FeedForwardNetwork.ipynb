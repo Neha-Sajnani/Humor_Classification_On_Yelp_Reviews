{
  "nbformat": 4,
  "nbformat_minor": 0,
  "metadata": {
    "colab": {
      "name": "humour_detection_FeedForwardNetwork.ipynb",
      "provenance": []
    },
    "kernelspec": {
      "name": "python3",
      "display_name": "Python 3"
    }
  },
  "cells": [
    {
      "cell_type": "code",
      "metadata": {
        "id": "OSJfDFFaR2_L",
        "colab_type": "code",
        "colab": {
          "base_uri": "https://localhost:8080/",
          "height": 50
        },
        "outputId": "ed8bdb16-d5bd-4413-8d68-2160484cbb83"
      },
      "source": [
        "%tensorflow_version 1.x\n",
        "import numpy as np\n",
        "import pandas as pd\n",
        "import matplotlib.pyplot as plt\n",
        "from keras.preprocessing.text import Tokenizer\n",
        "from keras.preprocessing.sequence import pad_sequences\n",
        "from keras.models import Sequential\n",
        "from keras.layers import Embedding,Flatten,Dense,Dropout,SimpleRNN,LSTM,Conv1D,MaxPooling1D,GlobalMaxPooling1D,GRU\n",
        "from keras.optimizers import RMSprop\n",
        "from keras import backend as K"
      ],
      "execution_count": 1,
      "outputs": [
        {
          "output_type": "stream",
          "text": [
            "TensorFlow 1.x selected.\n"
          ],
          "name": "stdout"
        },
        {
          "output_type": "stream",
          "text": [
            "Using TensorFlow backend.\n"
          ],
          "name": "stderr"
        }
      ]
    },
    {
      "cell_type": "code",
      "metadata": {
        "id": "2uOmMMUrSLd0",
        "colab_type": "code",
        "outputId": "d33ac7c9-52cc-4789-810d-1e111875c88a",
        "colab": {
          "base_uri": "https://localhost:8080/",
          "height": 34
        }
      },
      "source": [
        "!git clone https://github.com/iamdsc/humor_detection.git"
      ],
      "execution_count": 0,
      "outputs": [
        {
          "output_type": "stream",
          "text": [
            "fatal: destination path 'humor_detection' already exists and is not an empty directory.\n"
          ],
          "name": "stdout"
        }
      ]
    },
    {
      "cell_type": "code",
      "metadata": {
        "id": "A9k8bIadSNWU",
        "colab_type": "code",
        "outputId": "43762904-a382-47c4-9854-01ef1c4e3f89",
        "colab": {
          "base_uri": "https://localhost:8080/",
          "height": 101
        }
      },
      "source": [
        "%cd humor_detection/datasets\n",
        "!ls"
      ],
      "execution_count": 0,
      "outputs": [
        {
          "output_type": "stream",
          "text": [
            "/content/humor_detection/datasets\n",
            "glove.6B.100d.txt  glove.6B.zip\t\t\t  reuters_headlines.pickle\n",
            "glove.6B.200d.txt  humorous_oneliners.pickle\t  wiki_sentences.pickle\n",
            "glove.6B.300d.txt  oneliners_incl_doubles.pickle\n",
            "glove.6B.50d.txt   proverbs.pickle\n"
          ],
          "name": "stdout"
        }
      ]
    },
    {
      "cell_type": "code",
      "metadata": {
        "id": "tOsa_8fISQlG",
        "colab_type": "code",
        "outputId": "6f609701-1624-4727-b61d-cfc365975cfc",
        "colab": {
          "base_uri": "https://localhost:8080/",
          "height": 67
        }
      },
      "source": [
        "# Read in the lists of sentences from respective pickle files\n",
        "humour = pd.read_pickle('humorous_oneliners.pickle')\n",
        "proverb = pd.read_pickle('proverbs.pickle')\n",
        "wiki = pd.read_pickle('wiki_sentences.pickle')\n",
        "long_humour = pd.read_pickle('oneliners_incl_doubles.pickle')\n",
        "reuters = pd.read_pickle('reuters_headlines.pickle')\n",
        "\n",
        "texts = []\n",
        "labels = []\n",
        "\n",
        "# shuffling the different negative samples\n",
        "neg = proverb+wiki+reuters\n",
        "np.random.shuffle(neg)\n",
        "\n",
        "# adding the positive samples\n",
        "print('No. of positive samples',len(humour))\n",
        "for line in humour:\n",
        "  texts.append(line)\n",
        "  labels.append(1)\n",
        "  \n",
        "# taking equal samples from both classes\n",
        "neg = neg[:len(humour)]\n",
        "\n",
        "# adding the negative samples\n",
        "print('No. of negative samples',len(neg))\n",
        "for line in neg:\n",
        "  texts.append(line)\n",
        "  labels.append(0)\n",
        "  \n",
        "print('Total no. of samples',len(texts))"
      ],
      "execution_count": 0,
      "outputs": [
        {
          "output_type": "stream",
          "text": [
            "No. of positive samples 5251\n",
            "No. of negative samples 5251\n",
            "Total no. of samples 10502\n"
          ],
          "name": "stdout"
        }
      ]
    },
    {
      "cell_type": "code",
      "metadata": {
        "id": "-eJIsnyZSVVD",
        "colab_type": "code",
        "outputId": "35d3e9ed-2dea-41f9-f4d8-8bdaee8a451e",
        "colab": {
          "base_uri": "https://localhost:8080/",
          "height": 67
        }
      },
      "source": [
        "# Tokenizing the data\n",
        "maxlen = 50 # cut off sentences after 50 words\n",
        "max_words = 10000 # only consider top 10000 common words in dataset\n",
        "\n",
        "tokenizer = Tokenizer(num_words=max_words)\n",
        "tokenizer.fit_on_texts(texts)\n",
        "\n",
        "sequences = tokenizer.texts_to_sequences(texts)\n",
        "word_index = tokenizer.word_index\n",
        "\n",
        "print('Found %s unique tokens'%len(word_index))\n",
        "\n",
        "# padding the sequences\n",
        "data = pad_sequences(sequences, maxlen=maxlen)\n",
        "\n",
        "labels = np.array(labels)\n",
        "\n",
        "print('Shape of data tensor:',data.shape)\n",
        "print('Shape of labels tensor:',labels.shape)\n",
        "\n",
        "# shuffle the data\n",
        "indices = np.arange(data.shape[0])\n",
        "np.random.shuffle(indices)\n",
        "data = data[indices]\n",
        "labels = labels[indices]"
      ],
      "execution_count": 0,
      "outputs": [
        {
          "output_type": "stream",
          "text": [
            "Found 16786 unique tokens\n",
            "Shape of data tensor: (10502, 50)\n",
            "Shape of labels tensor: (10502,)\n"
          ],
          "name": "stdout"
        }
      ]
    },
    {
      "cell_type": "code",
      "metadata": {
        "id": "mRVdbph6SXoJ",
        "colab_type": "code",
        "outputId": "4d0e8dd4-727b-4fbd-80ca-12dea36f6aab",
        "colab": {
          "base_uri": "https://localhost:8080/",
          "height": 353
        }
      },
      "source": [
        "!wget http://nlp.stanford.edu/data/glove.6B.zip"
      ],
      "execution_count": 0,
      "outputs": [
        {
          "output_type": "stream",
          "text": [
            "--2020-04-02 10:20:32--  http://nlp.stanford.edu/data/glove.6B.zip\n",
            "Resolving nlp.stanford.edu (nlp.stanford.edu)... 171.64.67.140\n",
            "Connecting to nlp.stanford.edu (nlp.stanford.edu)|171.64.67.140|:80... connected.\n",
            "HTTP request sent, awaiting response... 302 Found\n",
            "Location: https://nlp.stanford.edu/data/glove.6B.zip [following]\n",
            "--2020-04-02 10:20:32--  https://nlp.stanford.edu/data/glove.6B.zip\n",
            "Connecting to nlp.stanford.edu (nlp.stanford.edu)|171.64.67.140|:443... connected.\n",
            "HTTP request sent, awaiting response... 301 Moved Permanently\n",
            "Location: http://downloads.cs.stanford.edu/nlp/data/glove.6B.zip [following]\n",
            "--2020-04-02 10:20:33--  http://downloads.cs.stanford.edu/nlp/data/glove.6B.zip\n",
            "Resolving downloads.cs.stanford.edu (downloads.cs.stanford.edu)... 171.64.64.22\n",
            "Connecting to downloads.cs.stanford.edu (downloads.cs.stanford.edu)|171.64.64.22|:80... connected.\n",
            "HTTP request sent, awaiting response... 200 OK\n",
            "Length: 862182613 (822M) [application/zip]\n",
            "Saving to: ‘glove.6B.zip.1’\n",
            "\n",
            "glove.6B.zip.1      100%[===================>] 822.24M  2.14MB/s    in 6m 28s  \n",
            "\n",
            "2020-04-02 10:27:01 (2.12 MB/s) - ‘glove.6B.zip.1’ saved [862182613/862182613]\n",
            "\n"
          ],
          "name": "stdout"
        }
      ]
    },
    {
      "cell_type": "code",
      "metadata": {
        "id": "JJcCFN3CSaIl",
        "colab_type": "code",
        "outputId": "aae66db3-a14f-493d-a9de-87d363d079c5",
        "colab": {
          "base_uri": "https://localhost:8080/",
          "height": 168
        }
      },
      "source": [
        "!unzip glove.6B.zip"
      ],
      "execution_count": 0,
      "outputs": [
        {
          "output_type": "stream",
          "text": [
            "Archive:  glove.6B.zip\n",
            "replace glove.6B.50d.txt? [y]es, [n]o, [A]ll, [N]one, [r]ename: y\n",
            "  inflating: glove.6B.50d.txt        \n",
            "replace glove.6B.100d.txt? [y]es, [n]o, [A]ll, [N]one, [r]ename: y\n",
            "  inflating: glove.6B.100d.txt       \n",
            "replace glove.6B.200d.txt? [y]es, [n]o, [A]ll, [N]one, [r]ename: y\n",
            "  inflating: glove.6B.200d.txt       \n",
            "replace glove.6B.300d.txt? [y]es, [n]o, [A]ll, [N]one, [r]ename: y\n",
            "  inflating: glove.6B.300d.txt       \n"
          ],
          "name": "stdout"
        }
      ]
    },
    {
      "cell_type": "code",
      "metadata": {
        "id": "E5norTyPScF3",
        "colab_type": "code",
        "outputId": "344027a1-306a-444c-86c2-b4e537ae48b3",
        "colab": {
          "base_uri": "https://localhost:8080/",
          "height": 34
        }
      },
      "source": [
        "embeddings_index = {}\n",
        "\n",
        "f = open('glove.6B.100d.txt')\n",
        "for line in f:\n",
        "  values = line.split()\n",
        "  word = values[0]\n",
        "  coefs = np.asarray(values[1:], dtype='float32')\n",
        "  embeddings_index[word] = coefs\n",
        "f.close()\n",
        "\n",
        "print('Found %s word vectors:'%len(embeddings_index))\n",
        "\n",
        "# preparing glove word embeddings matrix\n",
        "embedding_dim = 100\n",
        "\n",
        "embedding_matrix = np.zeros((max_words, embedding_dim))\n",
        "for word, i in word_index.items():\n",
        "  if i<max_words:\n",
        "    embedding_vector = embeddings_index.get(word)\n",
        "    if embedding_vector is not None:\n",
        "      embedding_matrix[i] = embedding_vector # for words not in embedding index values will be zeros"
      ],
      "execution_count": 0,
      "outputs": [
        {
          "output_type": "stream",
          "text": [
            "Found 400000 word vectors:\n"
          ],
          "name": "stdout"
        }
      ]
    },
    {
      "cell_type": "code",
      "metadata": {
        "id": "gGbya9_2Sf7U",
        "colab_type": "code",
        "outputId": "0e8b42a7-0675-48a8-97aa-bc6f62ffb464",
        "colab": {
          "base_uri": "https://localhost:8080/",
          "height": 490
        }
      },
      "source": [
        "model = Sequential()\n",
        "model.add(Embedding(max_words, embedding_dim, input_length=maxlen))\n",
        "model.add(Flatten())\n",
        "\n",
        "model.add(Dense(64, activation='relu'))\n",
        "model.add(Dropout(0.3)) # adding regularization\n",
        "\n",
        "model.add(Dense(1, activation='sigmoid'))\n",
        "model.summary()"
      ],
      "execution_count": 0,
      "outputs": [
        {
          "output_type": "stream",
          "text": [
            "WARNING:tensorflow:From /usr/local/lib/python3.6/dist-packages/keras/backend/tensorflow_backend.py:541: The name tf.placeholder is deprecated. Please use tf.compat.v1.placeholder instead.\n",
            "\n",
            "WARNING:tensorflow:From /usr/local/lib/python3.6/dist-packages/keras/backend/tensorflow_backend.py:4432: The name tf.random_uniform is deprecated. Please use tf.random.uniform instead.\n",
            "\n",
            "WARNING:tensorflow:From /usr/local/lib/python3.6/dist-packages/keras/backend/tensorflow_backend.py:148: The name tf.placeholder_with_default is deprecated. Please use tf.compat.v1.placeholder_with_default instead.\n",
            "\n",
            "WARNING:tensorflow:From /usr/local/lib/python3.6/dist-packages/keras/backend/tensorflow_backend.py:3733: calling dropout (from tensorflow.python.ops.nn_ops) with keep_prob is deprecated and will be removed in a future version.\n",
            "Instructions for updating:\n",
            "Please use `rate` instead of `keep_prob`. Rate should be set to `rate = 1 - keep_prob`.\n",
            "Model: \"sequential_1\"\n",
            "_________________________________________________________________\n",
            "Layer (type)                 Output Shape              Param #   \n",
            "=================================================================\n",
            "embedding_2 (Embedding)      (None, 50, 100)           1000000   \n",
            "_________________________________________________________________\n",
            "flatten_1 (Flatten)          (None, 5000)              0         \n",
            "_________________________________________________________________\n",
            "dense_1 (Dense)              (None, 64)                320064    \n",
            "_________________________________________________________________\n",
            "dropout_1 (Dropout)          (None, 64)                0         \n",
            "_________________________________________________________________\n",
            "dense_2 (Dense)              (None, 1)                 65        \n",
            "=================================================================\n",
            "Total params: 1,320,129\n",
            "Trainable params: 1,320,129\n",
            "Non-trainable params: 0\n",
            "_________________________________________________________________\n"
          ],
          "name": "stdout"
        }
      ]
    },
    {
      "cell_type": "code",
      "metadata": {
        "id": "QY48tAe8S7Wj",
        "colab_type": "code",
        "outputId": "8757c321-24fc-41d6-fdf1-3e6a6a6a229d",
        "colab": {
          "base_uri": "https://localhost:8080/",
          "height": 238
        }
      },
      "source": [
        "model.layers[0].set_weights([embedding_matrix])\n",
        "model.layers[0].trainable = False"
      ],
      "execution_count": 0,
      "outputs": [
        {
          "output_type": "stream",
          "text": [
            "WARNING:tensorflow:From /usr/local/lib/python3.6/dist-packages/keras/backend/tensorflow_backend.py:190: The name tf.get_default_session is deprecated. Please use tf.compat.v1.get_default_session instead.\n",
            "\n",
            "WARNING:tensorflow:From /usr/local/lib/python3.6/dist-packages/keras/backend/tensorflow_backend.py:197: The name tf.ConfigProto is deprecated. Please use tf.compat.v1.ConfigProto instead.\n",
            "\n",
            "WARNING:tensorflow:From /usr/local/lib/python3.6/dist-packages/keras/backend/tensorflow_backend.py:203: The name tf.Session is deprecated. Please use tf.compat.v1.Session instead.\n",
            "\n",
            "WARNING:tensorflow:From /usr/local/lib/python3.6/dist-packages/keras/backend/tensorflow_backend.py:207: The name tf.global_variables is deprecated. Please use tf.compat.v1.global_variables instead.\n",
            "\n",
            "WARNING:tensorflow:From /usr/local/lib/python3.6/dist-packages/keras/backend/tensorflow_backend.py:216: The name tf.is_variable_initialized is deprecated. Please use tf.compat.v1.is_variable_initialized instead.\n",
            "\n",
            "WARNING:tensorflow:From /usr/local/lib/python3.6/dist-packages/keras/backend/tensorflow_backend.py:223: The name tf.variables_initializer is deprecated. Please use tf.compat.v1.variables_initializer instead.\n",
            "\n"
          ],
          "name": "stdout"
        }
      ]
    },
    {
      "cell_type": "code",
      "metadata": {
        "id": "WVGwnSL1S_Ej",
        "colab_type": "code",
        "colab": {}
      },
      "source": [
        "def f1(y_true, y_pred):\n",
        "    def recall(y_true, y_pred):\n",
        "        \"\"\"Recall metric.\n",
        "\n",
        "        Only computes a batch-wise average of recall.\n",
        "\n",
        "        Computes the recall, a metric for multi-label classification of\n",
        "        how many relevant items are selected.\n",
        "        \"\"\"\n",
        "        true_positives = K.sum(K.round(K.clip(y_true * y_pred, 0, 1)))\n",
        "        possible_positives = K.sum(K.round(K.clip(y_true, 0, 1)))\n",
        "        recall = true_positives / (possible_positives + K.epsilon())\n",
        "        return recall\n",
        "\n",
        "    def precision(y_true, y_pred):\n",
        "        \"\"\"Precision metric.\n",
        "\n",
        "        Only computes a batch-wise average of precision.\n",
        "\n",
        "        Computes the precision, a metric for multi-label classification of\n",
        "        how many selected items are relevant.\n",
        "        \"\"\"\n",
        "        true_positives = K.sum(K.round(K.clip(y_true * y_pred, 0, 1)))\n",
        "        predicted_positives = K.sum(K.round(K.clip(y_pred, 0, 1)))\n",
        "        precision = true_positives / (predicted_positives + K.epsilon())\n",
        "        return precision\n",
        "    precision = precision(y_true, y_pred)\n",
        "    recall = recall(y_true, y_pred)\n",
        "    return 2*((precision*recall)/(precision+recall+K.epsilon()))"
      ],
      "execution_count": 0,
      "outputs": []
    },
    {
      "cell_type": "code",
      "metadata": {
        "id": "QgsYFyojTCYX",
        "colab_type": "code",
        "outputId": "a2a58b36-eb4a-4e6a-f057-786555a6e602",
        "colab": {
          "base_uri": "https://localhost:8080/",
          "height": 910
        }
      },
      "source": [
        "model.compile(optimizer=RMSprop(lr=1e-4), loss='binary_crossentropy', metrics = ['acc', f1])\n",
        "history = model.fit(data, labels, epochs=20, batch_size=32, validation_split=0.1)"
      ],
      "execution_count": 0,
      "outputs": [
        {
          "output_type": "stream",
          "text": [
            "WARNING:tensorflow:From /usr/local/lib/python3.6/dist-packages/keras/optimizers.py:793: The name tf.train.Optimizer is deprecated. Please use tf.compat.v1.train.Optimizer instead.\n",
            "\n",
            "WARNING:tensorflow:From /usr/local/lib/python3.6/dist-packages/keras/backend/tensorflow_backend.py:3657: The name tf.log is deprecated. Please use tf.math.log instead.\n",
            "\n",
            "WARNING:tensorflow:From /tensorflow-1.15.2/python3.6/tensorflow_core/python/ops/nn_impl.py:183: where (from tensorflow.python.ops.array_ops) is deprecated and will be removed in a future version.\n",
            "Instructions for updating:\n",
            "Use tf.where in 2.0, which has the same broadcast rule as np.where\n",
            "WARNING:tensorflow:From /usr/local/lib/python3.6/dist-packages/keras/backend/tensorflow_backend.py:1033: The name tf.assign_add is deprecated. Please use tf.compat.v1.assign_add instead.\n",
            "\n",
            "WARNING:tensorflow:From /usr/local/lib/python3.6/dist-packages/keras/backend/tensorflow_backend.py:1020: The name tf.assign is deprecated. Please use tf.compat.v1.assign instead.\n",
            "\n",
            "Train on 9451 samples, validate on 1051 samples\n",
            "Epoch 1/20\n",
            "9451/9451 [==============================] - 2s 217us/step - loss: 0.3836 - acc: 0.8390 - f1: 0.8328 - val_loss: 0.2717 - val_acc: 0.8944 - val_f1: 0.8835\n",
            "Epoch 2/20\n",
            "9451/9451 [==============================] - 2s 173us/step - loss: 0.2659 - acc: 0.8955 - f1: 0.8906 - val_loss: 0.2373 - val_acc: 0.9106 - val_f1: 0.9021\n",
            "Epoch 3/20\n",
            "9451/9451 [==============================] - 2s 171us/step - loss: 0.2341 - acc: 0.9059 - f1: 0.9024 - val_loss: 0.2274 - val_acc: 0.9125 - val_f1: 0.9096\n",
            "Epoch 4/20\n",
            "9451/9451 [==============================] - 2s 172us/step - loss: 0.2165 - acc: 0.9123 - f1: 0.9096 - val_loss: 0.2188 - val_acc: 0.9172 - val_f1: 0.9099\n",
            "Epoch 5/20\n",
            "9451/9451 [==============================] - 2s 175us/step - loss: 0.1997 - acc: 0.9241 - f1: 0.9220 - val_loss: 0.2189 - val_acc: 0.9144 - val_f1: 0.9109\n",
            "Epoch 6/20\n",
            "9451/9451 [==============================] - 2s 170us/step - loss: 0.1859 - acc: 0.9301 - f1: 0.9283 - val_loss: 0.2135 - val_acc: 0.9172 - val_f1: 0.9143\n",
            "Epoch 7/20\n",
            "9451/9451 [==============================] - 2s 179us/step - loss: 0.1792 - acc: 0.9311 - f1: 0.9290 - val_loss: 0.2024 - val_acc: 0.9210 - val_f1: 0.9145\n",
            "Epoch 8/20\n",
            "9451/9451 [==============================] - 2s 171us/step - loss: 0.1681 - acc: 0.9368 - f1: 0.9344 - val_loss: 0.2032 - val_acc: 0.9258 - val_f1: 0.9191\n",
            "Epoch 9/20\n",
            "9451/9451 [==============================] - 2s 174us/step - loss: 0.1587 - acc: 0.9407 - f1: 0.9389 - val_loss: 0.2030 - val_acc: 0.9248 - val_f1: 0.9186\n",
            "Epoch 10/20\n",
            "9451/9451 [==============================] - 2s 169us/step - loss: 0.1512 - acc: 0.9446 - f1: 0.9429 - val_loss: 0.2026 - val_acc: 0.9229 - val_f1: 0.9180\n",
            "Epoch 11/20\n",
            "9451/9451 [==============================] - 2s 169us/step - loss: 0.1431 - acc: 0.9473 - f1: 0.9457 - val_loss: 0.2108 - val_acc: 0.9163 - val_f1: 0.9127\n",
            "Epoch 12/20\n",
            "9451/9451 [==============================] - 2s 166us/step - loss: 0.1366 - acc: 0.9487 - f1: 0.9473 - val_loss: 0.2041 - val_acc: 0.9210 - val_f1: 0.9150\n",
            "Epoch 13/20\n",
            "9451/9451 [==============================] - 2s 169us/step - loss: 0.1314 - acc: 0.9521 - f1: 0.9505 - val_loss: 0.2022 - val_acc: 0.9220 - val_f1: 0.9157\n",
            "Epoch 14/20\n",
            "9451/9451 [==============================] - 2s 168us/step - loss: 0.1260 - acc: 0.9551 - f1: 0.9538 - val_loss: 0.2010 - val_acc: 0.9248 - val_f1: 0.9186\n",
            "Epoch 15/20\n",
            "9451/9451 [==============================] - 2s 171us/step - loss: 0.1186 - acc: 0.9571 - f1: 0.9563 - val_loss: 0.2059 - val_acc: 0.9229 - val_f1: 0.9165\n",
            "Epoch 16/20\n",
            "9451/9451 [==============================] - 2s 171us/step - loss: 0.1150 - acc: 0.9585 - f1: 0.9575 - val_loss: 0.2107 - val_acc: 0.9220 - val_f1: 0.9151\n",
            "Epoch 17/20\n",
            "9451/9451 [==============================] - 2s 175us/step - loss: 0.1096 - acc: 0.9614 - f1: 0.9603 - val_loss: 0.2100 - val_acc: 0.9229 - val_f1: 0.9179\n",
            "Epoch 18/20\n",
            "9451/9451 [==============================] - 2s 171us/step - loss: 0.1049 - acc: 0.9624 - f1: 0.9616 - val_loss: 0.2052 - val_acc: 0.9229 - val_f1: 0.9164\n",
            "Epoch 19/20\n",
            "9451/9451 [==============================] - 2s 165us/step - loss: 0.0996 - acc: 0.9670 - f1: 0.9661 - val_loss: 0.2185 - val_acc: 0.9182 - val_f1: 0.9125\n",
            "Epoch 20/20\n",
            "9451/9451 [==============================] - 2s 170us/step - loss: 0.0953 - acc: 0.9662 - f1: 0.9656 - val_loss: 0.2124 - val_acc: 0.9210 - val_f1: 0.9168\n"
          ],
          "name": "stdout"
        }
      ]
    },
    {
      "cell_type": "code",
      "metadata": {
        "id": "qCI2Bgz2TEXk",
        "colab_type": "code",
        "colab": {}
      },
      "source": [
        "def plot_result(history):\n",
        "  acc = history.history['acc']\n",
        "  val_acc = history.history['val_acc']\n",
        "  loss = history.history['loss']\n",
        "  val_loss = history.history['val_loss']\n",
        "  f1 = history.history['f1']\n",
        "  val_f1 = history.history['val_f1']\n",
        "  \n",
        "  epochs = range(1, len(acc)+1)\n",
        "\n",
        "  plt.plot(epochs, acc, label='Training acc')\n",
        "  plt.plot(epochs, val_acc, label='Validation acc')\n",
        "  plt.title('Training and validation accuracy')\n",
        "  plt.xlabel('epochs')\n",
        "  plt.ylabel('acc')\n",
        "  plt.legend()\n",
        "\n",
        "  plt.figure()\n",
        "\n",
        "  plt.plot(epochs, loss, label='Training loss')\n",
        "  plt.plot(epochs, val_loss, label='Validation loss')\n",
        "  plt.title('Training and validation loss')\n",
        "  plt.xlabel('epochs')\n",
        "  plt.ylabel('loss')\n",
        "  plt.legend()\n",
        "\n",
        "  plt.figure()\n",
        "\n",
        "  plt.plot(epochs, f1, label='Training fmeasure')\n",
        "  plt.plot(epochs, val_f1, label='Validation fmeasure')\n",
        "  plt.title('Training and validation fmeasure')\n",
        "  plt.xlabel('epochs')\n",
        "  plt.ylabel('f1')\n",
        "  plt.legend()\n",
        "  \n",
        "  plt.show()"
      ],
      "execution_count": 0,
      "outputs": []
    },
    {
      "cell_type": "code",
      "metadata": {
        "id": "2DW0PZK8TIkH",
        "colab_type": "code",
        "outputId": "db9d0f09-d6a2-4286-9d74-6cc3e592bc9c",
        "colab": {
          "base_uri": "https://localhost:8080/",
          "height": 851
        }
      },
      "source": [
        "plot_result(history)"
      ],
      "execution_count": 0,
      "outputs": [
        {
          "output_type": "display_data",
          "data": {
            "image/png": "[encoded data removed]",
            "text/plain": [
              "<Figure size 432x288 with 1 Axes>"
            ]
          },
          "metadata": {
            "tags": []
          }
        },
        {
          "output_type": "display_data",
          "data": {
            "image/png": "[encoded data removed]",
            "text/plain": [
              "<Figure size 432x288 with 1 Axes>"
            ]
          },
          "metadata": {
            "tags": []
          }
        },
        {
          "output_type": "display_data",
          "data": {
            "image/png": "[encoded data removed]",
            "text/plain": [
              "<Figure size 432x288 with 1 Axes>"
            ]
          },
          "metadata": {
            "tags": []
          }
        }
      ]
    },
    {
      "cell_type": "code",
      "metadata": {
        "id": "QQ8GcVoVTPVA",
        "colab_type": "code",
        "outputId": "95b3bcb0-3136-49cf-dae0-aa61af1519b3",
        "colab": {
          "base_uri": "https://localhost:8080/",
          "height": 1000
        }
      },
      "source": [
        "model = Sequential()\n",
        "model.add(Embedding(max_words, embedding_dim, input_length=maxlen))\n",
        "model.add(Flatten())\n",
        "\n",
        "model.add(Dense(64, activation='relu'))\n",
        "model.add(Dropout(0.3)) # adding regularization\n",
        "\n",
        "model.add(Dense(1, activation='sigmoid'))\n",
        "model.summary()\n",
        "\n",
        "model.compile(optimizer=RMSprop(lr=1e-4), loss='binary_crossentropy', metrics = ['acc', f1])\n",
        "history = model.fit(data, labels, epochs=20, batch_size=32, validation_split=0.1)"
      ],
      "execution_count": 0,
      "outputs": [
        {
          "output_type": "stream",
          "text": [
            "Model: \"sequential_2\"\n",
            "_________________________________________________________________\n",
            "Layer (type)                 Output Shape              Param #   \n",
            "=================================================================\n",
            "embedding_3 (Embedding)      (None, 50, 100)           1000000   \n",
            "_________________________________________________________________\n",
            "flatten_2 (Flatten)          (None, 5000)              0         \n",
            "_________________________________________________________________\n",
            "dense_3 (Dense)              (None, 64)                320064    \n",
            "_________________________________________________________________\n",
            "dropout_2 (Dropout)          (None, 64)                0         \n",
            "_________________________________________________________________\n",
            "dense_4 (Dense)              (None, 1)                 65        \n",
            "=================================================================\n",
            "Total params: 1,320,129\n",
            "Trainable params: 1,320,129\n",
            "Non-trainable params: 0\n",
            "_________________________________________________________________\n",
            "Train on 9451 samples, validate on 1051 samples\n",
            "Epoch 1/20\n",
            "9451/9451 [==============================] - 5s 513us/step - loss: 0.6229 - acc: 0.6716 - f1: 0.6280 - val_loss: 0.5506 - val_acc: 0.7307 - val_f1: 0.7306\n",
            "Epoch 2/20\n",
            "9451/9451 [==============================] - 5s 491us/step - loss: 0.4596 - acc: 0.8075 - f1: 0.8033 - val_loss: 0.3628 - val_acc: 0.8735 - val_f1: 0.8518\n",
            "Epoch 3/20\n",
            "9451/9451 [==============================] - 5s 489us/step - loss: 0.2928 - acc: 0.8975 - f1: 0.8921 - val_loss: 0.2397 - val_acc: 0.9201 - val_f1: 0.9110\n",
            "Epoch 4/20\n",
            "9451/9451 [==============================] - 5s 493us/step - loss: 0.2153 - acc: 0.9252 - f1: 0.9216 - val_loss: 0.1950 - val_acc: 0.9277 - val_f1: 0.9199\n",
            "Epoch 5/20\n",
            "9451/9451 [==============================] - 5s 490us/step - loss: 0.1777 - acc: 0.9349 - f1: 0.9325 - val_loss: 0.1674 - val_acc: 0.9372 - val_f1: 0.9324\n",
            "Epoch 6/20\n",
            "9451/9451 [==============================] - 5s 476us/step - loss: 0.1557 - acc: 0.9438 - f1: 0.9418 - val_loss: 0.1526 - val_acc: 0.9429 - val_f1: 0.9378\n",
            "Epoch 7/20\n",
            "9451/9451 [==============================] - 4s 468us/step - loss: 0.1380 - acc: 0.9486 - f1: 0.9460 - val_loss: 0.1424 - val_acc: 0.9477 - val_f1: 0.9447\n",
            "Epoch 8/20\n",
            "9451/9451 [==============================] - 5s 477us/step - loss: 0.1247 - acc: 0.9535 - f1: 0.9515 - val_loss: 0.1353 - val_acc: 0.9496 - val_f1: 0.9464\n",
            "Epoch 9/20\n",
            "9451/9451 [==============================] - 4s 469us/step - loss: 0.1134 - acc: 0.9584 - f1: 0.9577 - val_loss: 0.1308 - val_acc: 0.9486 - val_f1: 0.9447\n",
            "Epoch 10/20\n",
            "9451/9451 [==============================] - 4s 465us/step - loss: 0.1046 - acc: 0.9604 - f1: 0.9581 - val_loss: 0.1250 - val_acc: 0.9486 - val_f1: 0.9464\n",
            "Epoch 11/20\n",
            "9451/9451 [==============================] - 5s 482us/step - loss: 0.0948 - acc: 0.9653 - f1: 0.9642 - val_loss: 0.1223 - val_acc: 0.9496 - val_f1: 0.9472\n",
            "Epoch 12/20\n",
            "9451/9451 [==============================] - 4s 472us/step - loss: 0.0888 - acc: 0.9665 - f1: 0.9653 - val_loss: 0.1231 - val_acc: 0.9496 - val_f1: 0.9473\n",
            "Epoch 13/20\n",
            "9451/9451 [==============================] - 5s 476us/step - loss: 0.0810 - acc: 0.9696 - f1: 0.9683 - val_loss: 0.1197 - val_acc: 0.9477 - val_f1: 0.9453\n",
            "Epoch 14/20\n",
            "9451/9451 [==============================] - 5s 483us/step - loss: 0.0752 - acc: 0.9724 - f1: 0.9719 - val_loss: 0.1167 - val_acc: 0.9524 - val_f1: 0.9489\n",
            "Epoch 15/20\n",
            "9451/9451 [==============================] - 5s 498us/step - loss: 0.0697 - acc: 0.9742 - f1: 0.9737 - val_loss: 0.1185 - val_acc: 0.9534 - val_f1: 0.9503\n",
            "Epoch 16/20\n",
            "9451/9451 [==============================] - 5s 492us/step - loss: 0.0642 - acc: 0.9770 - f1: 0.9763 - val_loss: 0.1159 - val_acc: 0.9524 - val_f1: 0.9493\n",
            "Epoch 17/20\n",
            "9451/9451 [==============================] - 5s 478us/step - loss: 0.0616 - acc: 0.9770 - f1: 0.9764 - val_loss: 0.1171 - val_acc: 0.9524 - val_f1: 0.9495\n",
            "Epoch 18/20\n",
            "9451/9451 [==============================] - 5s 493us/step - loss: 0.0568 - acc: 0.9788 - f1: 0.9783 - val_loss: 0.1158 - val_acc: 0.9524 - val_f1: 0.9496\n",
            "Epoch 19/20\n",
            "9451/9451 [==============================] - 5s 496us/step - loss: 0.0529 - acc: 0.9811 - f1: 0.9805 - val_loss: 0.1169 - val_acc: 0.9515 - val_f1: 0.9489\n",
            "Epoch 20/20\n",
            "9451/9451 [==============================] - 5s 508us/step - loss: 0.0479 - acc: 0.9831 - f1: 0.9827 - val_loss: 0.1168 - val_acc: 0.9524 - val_f1: 0.9497\n"
          ],
          "name": "stdout"
        }
      ]
    },
    {
      "cell_type": "code",
      "metadata": {
        "id": "Z9r842MbTcsG",
        "colab_type": "code",
        "outputId": "cf295316-d3ec-4818-b97f-f20f5a3dd3c9",
        "colab": {
          "base_uri": "https://localhost:8080/",
          "height": 851
        }
      },
      "source": [
        "plot_result(history)"
      ],
      "execution_count": 0,
      "outputs": [
        {
          "output_type": "display_data",
          "data": {
            "image/png": "[encoded data removed]",
            "text/plain": [
              "<Figure size 432x288 with 1 Axes>"
            ]
          },
          "metadata": {
            "tags": []
          }
        },
        {
          "output_type": "display_data",
          "data": {
            "image/png": "[encoded data removed]",
            "text/plain": [
              "<Figure size 432x288 with 1 Axes>"
            ]
          },
          "metadata": {
            "tags": []
          }
        },
        {
          "output_type": "display_data",
          "data": {
            "image/png": "[encoded data removed]",
            "text/plain": [
              "<Figure size 432x288 with 1 Axes>"
            ]
          },
          "metadata": {
            "tags": []
          }
        }
      ]
    },
    {
      "cell_type": "code",
      "metadata": {
        "id": "BgwJoLAKTdYC",
        "colab_type": "code",
        "colab": {}
      },
      "source": [
        ""
      ],
      "execution_count": 0,
      "outputs": []
    }
  ]
}
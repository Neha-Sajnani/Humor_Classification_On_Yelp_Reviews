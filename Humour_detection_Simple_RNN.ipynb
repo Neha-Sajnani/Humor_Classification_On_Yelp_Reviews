{
  "nbformat": 4,
  "nbformat_minor": 0,
  "metadata": {
    "colab": {
      "name": "Humour_detection_Simple_RNN.ipynb",
      "provenance": []
    },
    "kernelspec": {
      "name": "python3",
      "display_name": "Python 3"
    }
  },
  "cells": [
    {
      "cell_type": "code",
      "metadata": {
        "id": "C8tYKN2-dON9",
        "colab_type": "code",
        "outputId": "e48f3335-0e41-4a75-a440-f0ad51d52b37",
        "colab": {
          "base_uri": "https://localhost:8080/",
          "height": 50
        }
      },
      "source": [
        "%tensorflow_version 1.x\n",
        "import numpy as np\n",
        "import pandas as pd\n",
        "import matplotlib.pyplot as plt\n",
        "from keras.preprocessing.text import Tokenizer\n",
        "from keras.preprocessing.sequence import pad_sequences\n",
        "from keras.models import Sequential\n",
        "from keras.layers import Embedding,Flatten,Dense,Dropout,SimpleRNN,LSTM,Conv1D,MaxPooling1D,GlobalMaxPooling1D,GRU\n",
        "from keras.optimizers import RMSprop\n",
        "from keras import backend as K"
      ],
      "execution_count": 0,
      "outputs": [
        {
          "output_type": "stream",
          "text": [
            "TensorFlow 1.x selected.\n"
          ],
          "name": "stdout"
        },
        {
          "output_type": "stream",
          "text": [
            "Using TensorFlow backend.\n"
          ],
          "name": "stderr"
        }
      ]
    },
    {
      "cell_type": "code",
      "metadata": {
        "id": "eSIiF-8zdn2S",
        "colab_type": "code",
        "outputId": "d0dcb3c7-7451-4b45-c1c8-59172c9fc55d",
        "colab": {
          "base_uri": "https://localhost:8080/",
          "height": 84
        }
      },
      "source": [
        "!git clone https://github.com/iamdsc/humor_detection.git"
      ],
      "execution_count": 0,
      "outputs": [
        {
          "output_type": "stream",
          "text": [
            "Cloning into 'humor_detection'...\n",
            "remote: Enumerating objects: 43, done.\u001b[K\n",
            "remote: Total 43 (delta 0), reused 0 (delta 0), pack-reused 43\u001b[K\n",
            "Unpacking objects: 100% (43/43), done.\n"
          ],
          "name": "stdout"
        }
      ]
    },
    {
      "cell_type": "code",
      "metadata": {
        "id": "tw-Kx9fRdwLI",
        "colab_type": "code",
        "outputId": "95a12ce5-e0f4-4d4d-a6b6-25809de05a6d",
        "colab": {
          "base_uri": "https://localhost:8080/",
          "height": 67
        }
      },
      "source": [
        "%cd humor_detection/datasets\n",
        "!ls"
      ],
      "execution_count": 0,
      "outputs": [
        {
          "output_type": "stream",
          "text": [
            "/content/humor_detection/datasets\n",
            "humorous_oneliners.pickle      proverbs.pickle\t\t wiki_sentences.pickle\n",
            "oneliners_incl_doubles.pickle  reuters_headlines.pickle\n"
          ],
          "name": "stdout"
        }
      ]
    },
    {
      "cell_type": "code",
      "metadata": {
        "id": "bWVNDqendzKc",
        "colab_type": "code",
        "outputId": "8ad7d3b4-29be-4c06-bbb6-ee4a6ae60f92",
        "colab": {
          "base_uri": "https://localhost:8080/",
          "height": 67
        }
      },
      "source": [
        "humour = pd.read_pickle('humorous_oneliners.pickle')\n",
        "proverb = pd.read_pickle('proverbs.pickle')\n",
        "wiki = pd.read_pickle('wiki_sentences.pickle')\n",
        "long_humour = pd.read_pickle('oneliners_incl_doubles.pickle')\n",
        "reuters = pd.read_pickle('reuters_headlines.pickle')\n",
        "\n",
        "texts = []\n",
        "labels = []\n",
        "\n",
        "# shuffling the different negative samples\n",
        "neg = proverb+wiki+reuters\n",
        "np.random.shuffle(neg)\n",
        "\n",
        "# adding the positive samples\n",
        "print('No. of positive samples',len(humour))\n",
        "for line in humour:\n",
        "  texts.append(line)\n",
        "  labels.append(1)\n",
        "  \n",
        "# taking equal samples from both classes\n",
        "neg = neg[:len(humour)]\n",
        "\n",
        "# adding the negative samples\n",
        "print('No. of negative samples',len(neg))\n",
        "for line in neg:\n",
        "  texts.append(line)\n",
        "  labels.append(0)\n",
        "  \n",
        "print('Total no. of samples',len(texts))"
      ],
      "execution_count": 0,
      "outputs": [
        {
          "output_type": "stream",
          "text": [
            "No. of positive samples 5251\n",
            "No. of negative samples 5251\n",
            "Total no. of samples 10502\n"
          ],
          "name": "stdout"
        }
      ]
    },
    {
      "cell_type": "code",
      "metadata": {
        "id": "0DuDMiTAdz27",
        "colab_type": "code",
        "outputId": "05b75f52-aa90-43a9-b302-22bc5349a761",
        "colab": {
          "base_uri": "https://localhost:8080/",
          "height": 67
        }
      },
      "source": [
        "maxlen = 50 # cut off sentences after 50 words\n",
        "max_words = 10000 # only consider top 10000 common words in dataset\n",
        "\n",
        "tokenizer = Tokenizer(num_words=max_words)\n",
        "tokenizer.fit_on_texts(texts)\n",
        "\n",
        "sequences = tokenizer.texts_to_sequences(texts)\n",
        "word_index = tokenizer.word_index\n",
        "\n",
        "print('Found %s unique tokens'%len(word_index))\n",
        "\n",
        "# padding the sequences\n",
        "data = pad_sequences(sequences, maxlen=maxlen)\n",
        "\n",
        "labels = np.array(labels)\n",
        "\n",
        "print('Shape of data tensor:',data.shape)\n",
        "print('Shape of labels tensor:',labels.shape)\n",
        "\n",
        "# shuffle the data\n",
        "indices = np.arange(data.shape[0])\n",
        "np.random.shuffle(indices)\n",
        "data = data[indices]\n",
        "labels = labels[indices]"
      ],
      "execution_count": 0,
      "outputs": [
        {
          "output_type": "stream",
          "text": [
            "Found 16839 unique tokens\n",
            "Shape of data tensor: (10502, 50)\n",
            "Shape of labels tensor: (10502,)\n"
          ],
          "name": "stdout"
        }
      ]
    },
    {
      "cell_type": "code",
      "metadata": {
        "id": "5j9G7oead2qD",
        "colab_type": "code",
        "outputId": "a76db829-294e-4e84-9026-3540b8981197",
        "colab": {
          "base_uri": "https://localhost:8080/",
          "height": 353
        }
      },
      "source": [
        "!wget http://nlp.stanford.edu/data/glove.6B.zip"
      ],
      "execution_count": 0,
      "outputs": [
        {
          "output_type": "stream",
          "text": [
            "--2020-04-02 10:39:18--  http://nlp.stanford.edu/data/glove.6B.zip\n",
            "Resolving nlp.stanford.edu (nlp.stanford.edu)... 171.64.67.140\n",
            "Connecting to nlp.stanford.edu (nlp.stanford.edu)|171.64.67.140|:80... connected.\n",
            "HTTP request sent, awaiting response... 302 Found\n",
            "Location: https://nlp.stanford.edu/data/glove.6B.zip [following]\n",
            "--2020-04-02 10:39:18--  https://nlp.stanford.edu/data/glove.6B.zip\n",
            "Connecting to nlp.stanford.edu (nlp.stanford.edu)|171.64.67.140|:443... connected.\n",
            "HTTP request sent, awaiting response... 301 Moved Permanently\n",
            "Location: http://downloads.cs.stanford.edu/nlp/data/glove.6B.zip [following]\n",
            "--2020-04-02 10:39:19--  http://downloads.cs.stanford.edu/nlp/data/glove.6B.zip\n",
            "Resolving downloads.cs.stanford.edu (downloads.cs.stanford.edu)... 171.64.64.22\n",
            "Connecting to downloads.cs.stanford.edu (downloads.cs.stanford.edu)|171.64.64.22|:80... connected.\n",
            "HTTP request sent, awaiting response... 200 OK\n",
            "Length: 862182613 (822M) [application/zip]\n",
            "Saving to: ‘glove.6B.zip’\n",
            "\n",
            "glove.6B.zip        100%[===================>] 822.24M  1.99MB/s    in 6m 29s  \n",
            "\n",
            "2020-04-02 10:45:48 (2.11 MB/s) - ‘glove.6B.zip’ saved [862182613/862182613]\n",
            "\n"
          ],
          "name": "stdout"
        }
      ]
    },
    {
      "cell_type": "code",
      "metadata": {
        "id": "al7m2mypd7TL",
        "colab_type": "code",
        "outputId": "d3637844-3187-4dd1-a110-55fd389572e8",
        "colab": {
          "base_uri": "https://localhost:8080/",
          "height": 101
        }
      },
      "source": [
        "!unzip glove.6B.zip"
      ],
      "execution_count": 0,
      "outputs": [
        {
          "output_type": "stream",
          "text": [
            "Archive:  glove.6B.zip\n",
            "  inflating: glove.6B.50d.txt        \n",
            "  inflating: glove.6B.100d.txt       \n",
            "  inflating: glove.6B.200d.txt       \n",
            "  inflating: glove.6B.300d.txt       \n"
          ],
          "name": "stdout"
        }
      ]
    },
    {
      "cell_type": "code",
      "metadata": {
        "id": "vKU6pjJ6d-2H",
        "colab_type": "code",
        "outputId": "6ed9a1ea-8c85-419d-83b9-4afb481af793",
        "colab": {
          "base_uri": "https://localhost:8080/",
          "height": 34
        }
      },
      "source": [
        "embeddings_index = {}\n",
        "\n",
        "f = open('glove.6B.100d.txt')\n",
        "for line in f:\n",
        "  values = line.split()\n",
        "  word = values[0]\n",
        "  coefs = np.asarray(values[1:], dtype='float32')\n",
        "  embeddings_index[word] = coefs\n",
        "f.close()\n",
        "\n",
        "print('Found %s word vectors:'%len(embeddings_index))\n",
        "\n",
        "# preparing glove word embeddings matrix\n",
        "embedding_dim = 100\n",
        "\n",
        "embedding_matrix = np.zeros((max_words, embedding_dim))\n",
        "for word, i in word_index.items():\n",
        "  if i<max_words:\n",
        "    embedding_vector = embeddings_index.get(word)\n",
        "    if embedding_vector is not None:\n",
        "      embedding_matrix[i] = embedding_vector # for words not in embedding index values will be zeros"
      ],
      "execution_count": 0,
      "outputs": [
        {
          "output_type": "stream",
          "text": [
            "Found 400000 word vectors:\n"
          ],
          "name": "stdout"
        }
      ]
    },
    {
      "cell_type": "code",
      "metadata": {
        "id": "wJjvmJBjeBgC",
        "colab_type": "code",
        "outputId": "e1603d1b-8d44-4465-d65e-74eec046c89c",
        "colab": {
          "base_uri": "https://localhost:8080/",
          "height": 457
        }
      },
      "source": [
        "model = Sequential()\n",
        "model.add(Embedding(max_words, 32))\n",
        "model.add(SimpleRNN(64, dropout=0.1))\n",
        "model.add(Dense(1, activation='sigmoid'))\n",
        "model.summary()"
      ],
      "execution_count": 0,
      "outputs": [
        {
          "output_type": "stream",
          "text": [
            "WARNING:tensorflow:From /usr/local/lib/python3.6/dist-packages/keras/backend/tensorflow_backend.py:66: The name tf.get_default_graph is deprecated. Please use tf.compat.v1.get_default_graph instead.\n",
            "\n",
            "WARNING:tensorflow:From /usr/local/lib/python3.6/dist-packages/keras/backend/tensorflow_backend.py:541: The name tf.placeholder is deprecated. Please use tf.compat.v1.placeholder instead.\n",
            "\n",
            "WARNING:tensorflow:From /usr/local/lib/python3.6/dist-packages/keras/backend/tensorflow_backend.py:4432: The name tf.random_uniform is deprecated. Please use tf.random.uniform instead.\n",
            "\n",
            "WARNING:tensorflow:From /usr/local/lib/python3.6/dist-packages/keras/backend/tensorflow_backend.py:148: The name tf.placeholder_with_default is deprecated. Please use tf.compat.v1.placeholder_with_default instead.\n",
            "\n",
            "WARNING:tensorflow:From /usr/local/lib/python3.6/dist-packages/keras/backend/tensorflow_backend.py:3733: calling dropout (from tensorflow.python.ops.nn_ops) with keep_prob is deprecated and will be removed in a future version.\n",
            "Instructions for updating:\n",
            "Please use `rate` instead of `keep_prob`. Rate should be set to `rate = 1 - keep_prob`.\n",
            "Model: \"sequential_1\"\n",
            "_________________________________________________________________\n",
            "Layer (type)                 Output Shape              Param #   \n",
            "=================================================================\n",
            "embedding_1 (Embedding)      (None, None, 32)          320000    \n",
            "_________________________________________________________________\n",
            "simple_rnn_1 (SimpleRNN)     (None, 64)                6208      \n",
            "_________________________________________________________________\n",
            "dense_1 (Dense)              (None, 1)                 65        \n",
            "=================================================================\n",
            "Total params: 326,273\n",
            "Trainable params: 326,273\n",
            "Non-trainable params: 0\n",
            "_________________________________________________________________\n"
          ],
          "name": "stdout"
        }
      ]
    },
    {
      "cell_type": "code",
      "metadata": {
        "id": "0V34_sTgeEVM",
        "colab_type": "code",
        "outputId": "799290c0-f343-405c-ace1-e060881e321f",
        "colab": {
          "base_uri": "https://localhost:8080/",
          "height": 1000
        }
      },
      "source": [
        "model.compile(optimizer=RMSprop(lr=1e-4), loss='binary_crossentropy', metrics=['acc'])\n",
        "history = model.fit(data,labels, epochs=20, batch_size=32, validation_split=0.1)"
      ],
      "execution_count": 0,
      "outputs": [
        {
          "output_type": "stream",
          "text": [
            "WARNING:tensorflow:From /usr/local/lib/python3.6/dist-packages/keras/optimizers.py:793: The name tf.train.Optimizer is deprecated. Please use tf.compat.v1.train.Optimizer instead.\n",
            "\n",
            "WARNING:tensorflow:From /usr/local/lib/python3.6/dist-packages/keras/backend/tensorflow_backend.py:3657: The name tf.log is deprecated. Please use tf.math.log instead.\n",
            "\n",
            "WARNING:tensorflow:From /tensorflow-1.15.2/python3.6/tensorflow_core/python/ops/nn_impl.py:183: where (from tensorflow.python.ops.array_ops) is deprecated and will be removed in a future version.\n",
            "Instructions for updating:\n",
            "Use tf.where in 2.0, which has the same broadcast rule as np.where\n",
            "WARNING:tensorflow:From /usr/local/lib/python3.6/dist-packages/keras/backend/tensorflow_backend.py:1033: The name tf.assign_add is deprecated. Please use tf.compat.v1.assign_add instead.\n",
            "\n",
            "WARNING:tensorflow:From /usr/local/lib/python3.6/dist-packages/keras/backend/tensorflow_backend.py:1020: The name tf.assign is deprecated. Please use tf.compat.v1.assign instead.\n",
            "\n",
            "WARNING:tensorflow:From /usr/local/lib/python3.6/dist-packages/keras/backend/tensorflow_backend.py:3005: The name tf.Session is deprecated. Please use tf.compat.v1.Session instead.\n",
            "\n",
            "Train on 9451 samples, validate on 1051 samples\n",
            "Epoch 1/20\n",
            "WARNING:tensorflow:From /usr/local/lib/python3.6/dist-packages/keras/backend/tensorflow_backend.py:190: The name tf.get_default_session is deprecated. Please use tf.compat.v1.get_default_session instead.\n",
            "\n",
            "WARNING:tensorflow:From /usr/local/lib/python3.6/dist-packages/keras/backend/tensorflow_backend.py:197: The name tf.ConfigProto is deprecated. Please use tf.compat.v1.ConfigProto instead.\n",
            "\n",
            "WARNING:tensorflow:From /usr/local/lib/python3.6/dist-packages/keras/backend/tensorflow_backend.py:207: The name tf.global_variables is deprecated. Please use tf.compat.v1.global_variables instead.\n",
            "\n",
            "WARNING:tensorflow:From /usr/local/lib/python3.6/dist-packages/keras/backend/tensorflow_backend.py:216: The name tf.is_variable_initialized is deprecated. Please use tf.compat.v1.is_variable_initialized instead.\n",
            "\n",
            "WARNING:tensorflow:From /usr/local/lib/python3.6/dist-packages/keras/backend/tensorflow_backend.py:223: The name tf.variables_initializer is deprecated. Please use tf.compat.v1.variables_initializer instead.\n",
            "\n",
            "9451/9451 [==============================] - 5s 507us/step - loss: 0.6090 - acc: 0.6833 - val_loss: 0.5602 - val_acc: 0.7212\n",
            "Epoch 2/20\n",
            "9451/9451 [==============================] - 4s 423us/step - loss: 0.4246 - acc: 0.8219 - val_loss: 0.3602 - val_acc: 0.8620\n",
            "Epoch 3/20\n",
            "9451/9451 [==============================] - 4s 425us/step - loss: 0.2854 - acc: 0.8925 - val_loss: 0.2879 - val_acc: 0.8896\n",
            "Epoch 4/20\n",
            "9451/9451 [==============================] - 4s 421us/step - loss: 0.2265 - acc: 0.9157 - val_loss: 0.2391 - val_acc: 0.9077\n",
            "Epoch 5/20\n",
            "9451/9451 [==============================] - 4s 416us/step - loss: 0.1938 - acc: 0.9264 - val_loss: 0.2233 - val_acc: 0.9039\n",
            "Epoch 6/20\n",
            "9451/9451 [==============================] - 4s 421us/step - loss: 0.1766 - acc: 0.9343 - val_loss: 0.2024 - val_acc: 0.9210\n",
            "Epoch 7/20\n",
            "9451/9451 [==============================] - 4s 421us/step - loss: 0.1557 - acc: 0.9416 - val_loss: 0.1906 - val_acc: 0.9267\n",
            "Epoch 8/20\n",
            "9451/9451 [==============================] - 4s 434us/step - loss: 0.1436 - acc: 0.9465 - val_loss: 0.1922 - val_acc: 0.9229\n",
            "Epoch 9/20\n",
            "9451/9451 [==============================] - 4s 416us/step - loss: 0.1334 - acc: 0.9511 - val_loss: 0.1738 - val_acc: 0.9372\n",
            "Epoch 10/20\n",
            "9451/9451 [==============================] - 4s 418us/step - loss: 0.1245 - acc: 0.9552 - val_loss: 0.1696 - val_acc: 0.9363\n",
            "Epoch 11/20\n",
            "9451/9451 [==============================] - 4s 427us/step - loss: 0.1181 - acc: 0.9562 - val_loss: 0.1703 - val_acc: 0.9353\n",
            "Epoch 12/20\n",
            "9451/9451 [==============================] - 4s 427us/step - loss: 0.1133 - acc: 0.9573 - val_loss: 0.1623 - val_acc: 0.9401\n",
            "Epoch 13/20\n",
            "9451/9451 [==============================] - 4s 418us/step - loss: 0.1072 - acc: 0.9612 - val_loss: 0.1578 - val_acc: 0.9420\n",
            "Epoch 14/20\n",
            "9451/9451 [==============================] - 4s 421us/step - loss: 0.1026 - acc: 0.9628 - val_loss: 0.1568 - val_acc: 0.9467\n",
            "Epoch 15/20\n",
            "9451/9451 [==============================] - 4s 417us/step - loss: 0.1001 - acc: 0.9633 - val_loss: 0.1533 - val_acc: 0.9429\n",
            "Epoch 16/20\n",
            "9451/9451 [==============================] - 4s 420us/step - loss: 0.0942 - acc: 0.9635 - val_loss: 0.1522 - val_acc: 0.9439\n",
            "Epoch 17/20\n",
            "9451/9451 [==============================] - 4s 429us/step - loss: 0.0895 - acc: 0.9667 - val_loss: 0.1483 - val_acc: 0.9486\n",
            "Epoch 18/20\n",
            "9451/9451 [==============================] - 4s 429us/step - loss: 0.0871 - acc: 0.9677 - val_loss: 0.1505 - val_acc: 0.9467\n",
            "Epoch 19/20\n",
            "9451/9451 [==============================] - 4s 419us/step - loss: 0.0846 - acc: 0.9680 - val_loss: 0.1502 - val_acc: 0.9477\n",
            "Epoch 20/20\n",
            "9451/9451 [==============================] - 4s 416us/step - loss: 0.0812 - acc: 0.9697 - val_loss: 0.1445 - val_acc: 0.9486\n"
          ],
          "name": "stdout"
        }
      ]
    },
    {
      "cell_type": "code",
      "metadata": {
        "id": "l3p8e6OeeGkG",
        "colab_type": "code",
        "outputId": "e677b664-2b92-4d6f-f9ad-eba4ff8dc187",
        "colab": {
          "base_uri": "https://localhost:8080/",
          "height": 590
        }
      },
      "source": [
        "def plot_result(history):\n",
        "  acc = history.history['acc']\n",
        "  val_acc = history.history['val_acc']\n",
        "  loss = history.history['loss']\n",
        "  val_loss = history.history['val_loss']\n",
        "  \n",
        "  \n",
        "  epochs = range(1, len(acc)+1)\n",
        "\n",
        "  plt.plot(epochs, acc, label='Training acc')\n",
        "  plt.plot(epochs, val_acc, label='Validation acc')\n",
        "  plt.title('Training and validation accuracy')\n",
        "  plt.xlabel('epochs')\n",
        "  plt.ylabel('acc')\n",
        "  plt.legend()\n",
        "\n",
        "  plt.figure()\n",
        "\n",
        "  plt.plot(epochs, loss, label='Training loss')\n",
        "  plt.plot(epochs, val_loss, label='Validation loss')\n",
        "  plt.title('Training and validation loss')\n",
        "  plt.xlabel('epochs')\n",
        "  plt.ylabel('loss')\n",
        "  plt.legend()\n",
        "\n",
        "  plt.figure()\n",
        "\n",
        "  \"\"\"plt.plot(epochs, f1, label='Training fmeasure')\n",
        "  plt.plot(epochs, val_f1, label='Validation fmeasure')\n",
        "  plt.title('Training and validation fmeasure')\n",
        "  #plt.xlabel('epochs')\n",
        "  #plt.ylabel('f1')\n",
        "  plt.legend()\"\"\"\n",
        "  \n",
        "  plt.show()\n",
        "plot_result(history)"
      ],
      "execution_count": 0,
      "outputs": [
        {
          "output_type": "display_data",
          "data": {
            "image/png": "[encoded data removed]",
            "text/plain": [
              "<Figure size 432x288 with 1 Axes>"
            ]
          },
          "metadata": {
            "tags": []
          }
        },
        {
          "output_type": "display_data",
          "data": {
            "image/png": "[encoded data removed]",
            "text/plain": [
              "<Figure size 432x288 with 1 Axes>"
            ]
          },
          "metadata": {
            "tags": []
          }
        },
        {
          "output_type": "display_data",
          "data": {
            "text/plain": [
              "<Figure size 432x288 with 0 Axes>"
            ]
          },
          "metadata": {
            "tags": []
          }
        }
      ]
    }
  ]
}